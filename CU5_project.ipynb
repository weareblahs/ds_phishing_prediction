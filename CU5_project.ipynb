{
 "cells": [
  {
   "cell_type": "code",
   "execution_count": 1,
   "id": "52aa20fa-3335-4734-98aa-59f2c515792e",
   "metadata": {},
   "outputs": [],
   "source": [
    "# data source: https://www.kaggle.com/datasets/ndarvind/phiusiil-phishing-url-dataset"
   ]
  },
  {
   "cell_type": "markdown",
   "id": "603490ad-c219-434f-9fed-fd78036e9360",
   "metadata": {},
   "source": [
    "# Data pre-processing (dataset cleaning)"
   ]
  },
  {
   "cell_type": "code",
   "execution_count": 2,
   "id": "2ba313b3-1df3-4d5b-9f45-0c3eec6b1700",
   "metadata": {},
   "outputs": [],
   "source": [
    "import pandas as pd\n",
    "import joblib\n",
    "import re\n",
    "from difflib import SequenceMatcher\n",
    "df = pd.read_csv('ds.csv').drop('FILENAME', axis = 1)"
   ]
  },
  {
   "cell_type": "code",
   "execution_count": 3,
   "id": "cadc9c70-5db0-4682-8236-472790ba0c67",
   "metadata": {
    "scrolled": true
   },
   "outputs": [
    {
     "data": {
      "text/plain": [
       "Index(['URL', 'URLLength', 'Domain', 'DomainLength', 'IsDomainIP', 'TLD',\n",
       "       'URLSimilarityIndex', 'CharContinuationRate', 'TLDLegitimateProb',\n",
       "       'URLCharProb', 'TLDLength', 'NoOfSubDomain', 'HasObfuscation',\n",
       "       'NoOfObfuscatedChar', 'ObfuscationRatio', 'NoOfLettersInURL',\n",
       "       'LetterRatioInURL', 'NoOfDegitsInURL', 'DegitRatioInURL',\n",
       "       'NoOfEqualsInURL', 'NoOfQMarkInURL', 'NoOfAmpersandInURL',\n",
       "       'NoOfOtherSpecialCharsInURL', 'SpacialCharRatioInURL', 'IsHTTPS',\n",
       "       'LineOfCode', 'LargestLineLength', 'HasTitle', 'Title',\n",
       "       'DomainTitleMatchScore', 'URLTitleMatchScore', 'HasFavicon', 'Robots',\n",
       "       'IsResponsive', 'NoOfURLRedirect', 'NoOfSelfRedirect', 'HasDescription',\n",
       "       'NoOfPopup', 'NoOfiFrame', 'HasExternalFormSubmit', 'HasSocialNet',\n",
       "       'HasSubmitButton', 'HasHiddenFields', 'HasPasswordField', 'Bank', 'Pay',\n",
       "       'Crypto', 'HasCopyrightInfo', 'NoOfImage', 'NoOfCSS', 'NoOfJS',\n",
       "       'NoOfSelfRef', 'NoOfEmptyRef', 'NoOfExternalRef', 'label'],\n",
       "      dtype='object')"
      ]
     },
     "execution_count": 3,
     "metadata": {},
     "output_type": "execute_result"
    }
   ],
   "source": [
    "df2 = df\n",
    "df2.columns"
   ]
  },
  {
   "cell_type": "code",
   "execution_count": 4,
   "id": "2c9bb089-acbb-4a8c-ab63-b40d906406d4",
   "metadata": {},
   "outputs": [],
   "source": [
    "# Keep ONLY the cleanest structural features\n",
    "ultra_safe_features = [\n",
    "    'URLLength',\n",
    "    'DomainLength',\n",
    "    'TLD',\n",
    "    'TLDLength',\n",
    "    'NoOfSubDomain',\n",
    "    'LetterRatioInURL',\n",
    "    'label'\n",
    "]"
   ]
  },
  {
   "cell_type": "code",
   "execution_count": null,
   "id": "7ad3c0d1-855e-4be4-ad0f-4c14b527d97c",
   "metadata": {},
   "outputs": [],
   "source": []
  },
  {
   "cell_type": "markdown",
   "id": "16e94fb4-82b8-44a4-b198-0e4b11c57c88",
   "metadata": {},
   "source": [
    "## Preprocessing: letter ratio in URL"
   ]
  },
  {
   "cell_type": "code",
   "execution_count": 5,
   "id": "14a50a88-748b-43e1-bcba-8e60b3a50461",
   "metadata": {},
   "outputs": [
    {
     "data": {
      "text/html": [
       "<div>\n",
       "<style scoped>\n",
       "    .dataframe tbody tr th:only-of-type {\n",
       "        vertical-align: middle;\n",
       "    }\n",
       "\n",
       "    .dataframe tbody tr th {\n",
       "        vertical-align: top;\n",
       "    }\n",
       "\n",
       "    .dataframe thead th {\n",
       "        text-align: right;\n",
       "    }\n",
       "</style>\n",
       "<table border=\"1\" class=\"dataframe\">\n",
       "  <thead>\n",
       "    <tr style=\"text-align: right;\">\n",
       "      <th></th>\n",
       "      <th>URL</th>\n",
       "      <th>URLLength</th>\n",
       "      <th>Domain</th>\n",
       "      <th>DomainLength</th>\n",
       "      <th>IsDomainIP</th>\n",
       "      <th>TLD</th>\n",
       "      <th>URLSimilarityIndex</th>\n",
       "      <th>CharContinuationRate</th>\n",
       "      <th>TLDLegitimateProb</th>\n",
       "      <th>URLCharProb</th>\n",
       "      <th>...</th>\n",
       "      <th>Pay</th>\n",
       "      <th>Crypto</th>\n",
       "      <th>HasCopyrightInfo</th>\n",
       "      <th>NoOfImage</th>\n",
       "      <th>NoOfCSS</th>\n",
       "      <th>NoOfJS</th>\n",
       "      <th>NoOfSelfRef</th>\n",
       "      <th>NoOfEmptyRef</th>\n",
       "      <th>NoOfExternalRef</th>\n",
       "      <th>label</th>\n",
       "    </tr>\n",
       "  </thead>\n",
       "  <tbody>\n",
       "    <tr>\n",
       "      <th>0</th>\n",
       "      <td>https://www.southbankmosaics.com</td>\n",
       "      <td>31</td>\n",
       "      <td>www.southbankmosaics.com</td>\n",
       "      <td>24</td>\n",
       "      <td>0</td>\n",
       "      <td>com</td>\n",
       "      <td>100.000000</td>\n",
       "      <td>1.000000</td>\n",
       "      <td>0.522907</td>\n",
       "      <td>0.061933</td>\n",
       "      <td>...</td>\n",
       "      <td>0</td>\n",
       "      <td>0</td>\n",
       "      <td>1</td>\n",
       "      <td>34</td>\n",
       "      <td>20</td>\n",
       "      <td>28</td>\n",
       "      <td>119</td>\n",
       "      <td>0</td>\n",
       "      <td>124</td>\n",
       "      <td>1</td>\n",
       "    </tr>\n",
       "    <tr>\n",
       "      <th>1</th>\n",
       "      <td>https://www.uni-mainz.de</td>\n",
       "      <td>23</td>\n",
       "      <td>www.uni-mainz.de</td>\n",
       "      <td>16</td>\n",
       "      <td>0</td>\n",
       "      <td>de</td>\n",
       "      <td>100.000000</td>\n",
       "      <td>0.666667</td>\n",
       "      <td>0.032650</td>\n",
       "      <td>0.050207</td>\n",
       "      <td>...</td>\n",
       "      <td>0</td>\n",
       "      <td>0</td>\n",
       "      <td>1</td>\n",
       "      <td>50</td>\n",
       "      <td>9</td>\n",
       "      <td>8</td>\n",
       "      <td>39</td>\n",
       "      <td>0</td>\n",
       "      <td>217</td>\n",
       "      <td>1</td>\n",
       "    </tr>\n",
       "    <tr>\n",
       "      <th>2</th>\n",
       "      <td>https://www.voicefmradio.co.uk</td>\n",
       "      <td>29</td>\n",
       "      <td>www.voicefmradio.co.uk</td>\n",
       "      <td>22</td>\n",
       "      <td>0</td>\n",
       "      <td>uk</td>\n",
       "      <td>100.000000</td>\n",
       "      <td>0.866667</td>\n",
       "      <td>0.028555</td>\n",
       "      <td>0.064129</td>\n",
       "      <td>...</td>\n",
       "      <td>0</td>\n",
       "      <td>0</td>\n",
       "      <td>1</td>\n",
       "      <td>10</td>\n",
       "      <td>2</td>\n",
       "      <td>7</td>\n",
       "      <td>42</td>\n",
       "      <td>2</td>\n",
       "      <td>5</td>\n",
       "      <td>1</td>\n",
       "    </tr>\n",
       "    <tr>\n",
       "      <th>3</th>\n",
       "      <td>https://www.sfnmjournal.com</td>\n",
       "      <td>26</td>\n",
       "      <td>www.sfnmjournal.com</td>\n",
       "      <td>19</td>\n",
       "      <td>0</td>\n",
       "      <td>com</td>\n",
       "      <td>100.000000</td>\n",
       "      <td>1.000000</td>\n",
       "      <td>0.522907</td>\n",
       "      <td>0.057606</td>\n",
       "      <td>...</td>\n",
       "      <td>1</td>\n",
       "      <td>1</td>\n",
       "      <td>1</td>\n",
       "      <td>3</td>\n",
       "      <td>27</td>\n",
       "      <td>15</td>\n",
       "      <td>22</td>\n",
       "      <td>1</td>\n",
       "      <td>31</td>\n",
       "      <td>1</td>\n",
       "    </tr>\n",
       "    <tr>\n",
       "      <th>4</th>\n",
       "      <td>https://www.rewildingargentina.org</td>\n",
       "      <td>33</td>\n",
       "      <td>www.rewildingargentina.org</td>\n",
       "      <td>26</td>\n",
       "      <td>0</td>\n",
       "      <td>org</td>\n",
       "      <td>100.000000</td>\n",
       "      <td>1.000000</td>\n",
       "      <td>0.079963</td>\n",
       "      <td>0.059441</td>\n",
       "      <td>...</td>\n",
       "      <td>1</td>\n",
       "      <td>0</td>\n",
       "      <td>1</td>\n",
       "      <td>244</td>\n",
       "      <td>15</td>\n",
       "      <td>34</td>\n",
       "      <td>72</td>\n",
       "      <td>1</td>\n",
       "      <td>85</td>\n",
       "      <td>1</td>\n",
       "    </tr>\n",
       "    <tr>\n",
       "      <th>...</th>\n",
       "      <td>...</td>\n",
       "      <td>...</td>\n",
       "      <td>...</td>\n",
       "      <td>...</td>\n",
       "      <td>...</td>\n",
       "      <td>...</td>\n",
       "      <td>...</td>\n",
       "      <td>...</td>\n",
       "      <td>...</td>\n",
       "      <td>...</td>\n",
       "      <td>...</td>\n",
       "      <td>...</td>\n",
       "      <td>...</td>\n",
       "      <td>...</td>\n",
       "      <td>...</td>\n",
       "      <td>...</td>\n",
       "      <td>...</td>\n",
       "      <td>...</td>\n",
       "      <td>...</td>\n",
       "      <td>...</td>\n",
       "      <td>...</td>\n",
       "    </tr>\n",
       "    <tr>\n",
       "      <th>235790</th>\n",
       "      <td>https://www.skincareliving.com</td>\n",
       "      <td>29</td>\n",
       "      <td>www.skincareliving.com</td>\n",
       "      <td>22</td>\n",
       "      <td>0</td>\n",
       "      <td>com</td>\n",
       "      <td>100.000000</td>\n",
       "      <td>1.000000</td>\n",
       "      <td>0.522907</td>\n",
       "      <td>0.058739</td>\n",
       "      <td>...</td>\n",
       "      <td>1</td>\n",
       "      <td>0</td>\n",
       "      <td>1</td>\n",
       "      <td>51</td>\n",
       "      <td>7</td>\n",
       "      <td>21</td>\n",
       "      <td>187</td>\n",
       "      <td>2</td>\n",
       "      <td>191</td>\n",
       "      <td>1</td>\n",
       "    </tr>\n",
       "    <tr>\n",
       "      <th>235791</th>\n",
       "      <td>https://www.winchester.gov.uk</td>\n",
       "      <td>28</td>\n",
       "      <td>www.winchester.gov.uk</td>\n",
       "      <td>21</td>\n",
       "      <td>0</td>\n",
       "      <td>uk</td>\n",
       "      <td>100.000000</td>\n",
       "      <td>0.785714</td>\n",
       "      <td>0.028555</td>\n",
       "      <td>0.053834</td>\n",
       "      <td>...</td>\n",
       "      <td>1</td>\n",
       "      <td>0</td>\n",
       "      <td>0</td>\n",
       "      <td>50</td>\n",
       "      <td>1</td>\n",
       "      <td>7</td>\n",
       "      <td>88</td>\n",
       "      <td>0</td>\n",
       "      <td>31</td>\n",
       "      <td>1</td>\n",
       "    </tr>\n",
       "    <tr>\n",
       "      <th>235792</th>\n",
       "      <td>https://www.nononsensedesign.be</td>\n",
       "      <td>30</td>\n",
       "      <td>www.nononsensedesign.be</td>\n",
       "      <td>23</td>\n",
       "      <td>0</td>\n",
       "      <td>be</td>\n",
       "      <td>100.000000</td>\n",
       "      <td>1.000000</td>\n",
       "      <td>0.003319</td>\n",
       "      <td>0.063093</td>\n",
       "      <td>...</td>\n",
       "      <td>0</td>\n",
       "      <td>0</td>\n",
       "      <td>1</td>\n",
       "      <td>27</td>\n",
       "      <td>10</td>\n",
       "      <td>30</td>\n",
       "      <td>58</td>\n",
       "      <td>2</td>\n",
       "      <td>67</td>\n",
       "      <td>1</td>\n",
       "    </tr>\n",
       "    <tr>\n",
       "      <th>235793</th>\n",
       "      <td>https://patient-cell-40f5.updatedlogmylogin.wo...</td>\n",
       "      <td>55</td>\n",
       "      <td>patient-cell-40f5.updatedlogmylogin.workers.dev</td>\n",
       "      <td>47</td>\n",
       "      <td>0</td>\n",
       "      <td>dev</td>\n",
       "      <td>28.157537</td>\n",
       "      <td>0.465116</td>\n",
       "      <td>0.000961</td>\n",
       "      <td>0.050211</td>\n",
       "      <td>...</td>\n",
       "      <td>0</td>\n",
       "      <td>0</td>\n",
       "      <td>0</td>\n",
       "      <td>0</td>\n",
       "      <td>0</td>\n",
       "      <td>3</td>\n",
       "      <td>0</td>\n",
       "      <td>0</td>\n",
       "      <td>0</td>\n",
       "      <td>0</td>\n",
       "    </tr>\n",
       "    <tr>\n",
       "      <th>235794</th>\n",
       "      <td>https://www.alternativefinland.com</td>\n",
       "      <td>33</td>\n",
       "      <td>www.alternativefinland.com</td>\n",
       "      <td>26</td>\n",
       "      <td>0</td>\n",
       "      <td>com</td>\n",
       "      <td>100.000000</td>\n",
       "      <td>1.000000</td>\n",
       "      <td>0.522907</td>\n",
       "      <td>0.060596</td>\n",
       "      <td>...</td>\n",
       "      <td>0</td>\n",
       "      <td>0</td>\n",
       "      <td>1</td>\n",
       "      <td>21</td>\n",
       "      <td>6</td>\n",
       "      <td>18</td>\n",
       "      <td>256</td>\n",
       "      <td>0</td>\n",
       "      <td>261</td>\n",
       "      <td>1</td>\n",
       "    </tr>\n",
       "  </tbody>\n",
       "</table>\n",
       "<p>235795 rows × 55 columns</p>\n",
       "</div>"
      ],
      "text/plain": [
       "                                                      URL  URLLength  \\\n",
       "0                        https://www.southbankmosaics.com         31   \n",
       "1                                https://www.uni-mainz.de         23   \n",
       "2                          https://www.voicefmradio.co.uk         29   \n",
       "3                             https://www.sfnmjournal.com         26   \n",
       "4                      https://www.rewildingargentina.org         33   \n",
       "...                                                   ...        ...   \n",
       "235790                     https://www.skincareliving.com         29   \n",
       "235791                      https://www.winchester.gov.uk         28   \n",
       "235792                    https://www.nononsensedesign.be         30   \n",
       "235793  https://patient-cell-40f5.updatedlogmylogin.wo...         55   \n",
       "235794                 https://www.alternativefinland.com         33   \n",
       "\n",
       "                                                 Domain  DomainLength  \\\n",
       "0                              www.southbankmosaics.com            24   \n",
       "1                                      www.uni-mainz.de            16   \n",
       "2                                www.voicefmradio.co.uk            22   \n",
       "3                                   www.sfnmjournal.com            19   \n",
       "4                            www.rewildingargentina.org            26   \n",
       "...                                                 ...           ...   \n",
       "235790                           www.skincareliving.com            22   \n",
       "235791                            www.winchester.gov.uk            21   \n",
       "235792                          www.nononsensedesign.be            23   \n",
       "235793  patient-cell-40f5.updatedlogmylogin.workers.dev            47   \n",
       "235794                       www.alternativefinland.com            26   \n",
       "\n",
       "        IsDomainIP  TLD  URLSimilarityIndex  CharContinuationRate  \\\n",
       "0                0  com          100.000000              1.000000   \n",
       "1                0   de          100.000000              0.666667   \n",
       "2                0   uk          100.000000              0.866667   \n",
       "3                0  com          100.000000              1.000000   \n",
       "4                0  org          100.000000              1.000000   \n",
       "...            ...  ...                 ...                   ...   \n",
       "235790           0  com          100.000000              1.000000   \n",
       "235791           0   uk          100.000000              0.785714   \n",
       "235792           0   be          100.000000              1.000000   \n",
       "235793           0  dev           28.157537              0.465116   \n",
       "235794           0  com          100.000000              1.000000   \n",
       "\n",
       "        TLDLegitimateProb  URLCharProb  ...  Pay  Crypto  HasCopyrightInfo  \\\n",
       "0                0.522907     0.061933  ...    0       0                 1   \n",
       "1                0.032650     0.050207  ...    0       0                 1   \n",
       "2                0.028555     0.064129  ...    0       0                 1   \n",
       "3                0.522907     0.057606  ...    1       1                 1   \n",
       "4                0.079963     0.059441  ...    1       0                 1   \n",
       "...                   ...          ...  ...  ...     ...               ...   \n",
       "235790           0.522907     0.058739  ...    1       0                 1   \n",
       "235791           0.028555     0.053834  ...    1       0                 0   \n",
       "235792           0.003319     0.063093  ...    0       0                 1   \n",
       "235793           0.000961     0.050211  ...    0       0                 0   \n",
       "235794           0.522907     0.060596  ...    0       0                 1   \n",
       "\n",
       "        NoOfImage  NoOfCSS  NoOfJS  NoOfSelfRef  NoOfEmptyRef  \\\n",
       "0              34       20      28          119             0   \n",
       "1              50        9       8           39             0   \n",
       "2              10        2       7           42             2   \n",
       "3               3       27      15           22             1   \n",
       "4             244       15      34           72             1   \n",
       "...           ...      ...     ...          ...           ...   \n",
       "235790         51        7      21          187             2   \n",
       "235791         50        1       7           88             0   \n",
       "235792         27       10      30           58             2   \n",
       "235793          0        0       3            0             0   \n",
       "235794         21        6      18          256             0   \n",
       "\n",
       "        NoOfExternalRef  label  \n",
       "0                   124      1  \n",
       "1                   217      1  \n",
       "2                     5      1  \n",
       "3                    31      1  \n",
       "4                    85      1  \n",
       "...                 ...    ...  \n",
       "235790              191      1  \n",
       "235791               31      1  \n",
       "235792               67      1  \n",
       "235793                0      0  \n",
       "235794              261      1  \n",
       "\n",
       "[235795 rows x 55 columns]"
      ]
     },
     "execution_count": 5,
     "metadata": {},
     "output_type": "execute_result"
    }
   ],
   "source": [
    "def recalculate_letter_ratio(dom):\n",
    "    d = str(dom)\n",
    "    letter_only = re.findall(r'[a-zA-Z]+', d)\n",
    "    ratio = SequenceMatcher(a=\"\".join(letter_only), b=dom).ratio()\n",
    "    return ratio\n",
    "\n",
    "df2['LetterRatioInURL'] = df['URL'].apply(recalculate_letter_ratio)\n",
    "df2"
   ]
  },
  {
   "cell_type": "code",
   "execution_count": 6,
   "id": "a14b3f98-e969-42ea-9ff2-42760d8ca804",
   "metadata": {},
   "outputs": [],
   "source": [
    "from sklearn.preprocessing import LabelEncoder\n",
    "df_usf = df[ultra_safe_features]\n",
    "# import newly processed data\n",
    "# source: https://huggingface.co/datasets/ealvaradob/phishing-dataset\n",
    "# processed from JSON. properties extracted to match selected features\n",
    "new_data = pd.read_csv('new_data.csv', index_col = 0)\n",
    "df2 = pd.concat([df_usf, new_data])\n"
   ]
  },
  {
   "cell_type": "code",
   "execution_count": 7,
   "id": "e7aead27-3019-4a4f-bca3-6765d69f9fea",
   "metadata": {},
   "outputs": [
    {
     "name": "stderr",
     "output_type": "stream",
     "text": [
      "C:\\Users\\tanyu\\AppData\\Local\\Programs\\Python\\Python313\\Lib\\site-packages\\sklearn\\preprocessing\\_label.py:110: DataConversionWarning: A column-vector y was passed when a 1d array was expected. Please change the shape of y to (n_samples, ), for example using ravel().\n",
      "  y = column_or_1d(y, warn=True)\n"
     ]
    }
   ],
   "source": [
    "le = LabelEncoder()\n",
    "df2['TLD'] = le.fit_transform(df2[['TLD']])"
   ]
  },
  {
   "cell_type": "code",
   "execution_count": 8,
   "id": "03f6237c-362e-4e3d-8877-000c47aa1d02",
   "metadata": {},
   "outputs": [
    {
     "data": {
      "text/html": [
       "<div>\n",
       "<style scoped>\n",
       "    .dataframe tbody tr th:only-of-type {\n",
       "        vertical-align: middle;\n",
       "    }\n",
       "\n",
       "    .dataframe tbody tr th {\n",
       "        vertical-align: top;\n",
       "    }\n",
       "\n",
       "    .dataframe thead th {\n",
       "        text-align: right;\n",
       "    }\n",
       "</style>\n",
       "<table border=\"1\" class=\"dataframe\">\n",
       "  <thead>\n",
       "    <tr style=\"text-align: right;\">\n",
       "      <th></th>\n",
       "      <th>URLLength</th>\n",
       "      <th>DomainLength</th>\n",
       "      <th>TLD</th>\n",
       "      <th>TLDLength</th>\n",
       "      <th>NoOfSubDomain</th>\n",
       "      <th>LetterRatioInURL</th>\n",
       "      <th>label</th>\n",
       "    </tr>\n",
       "  </thead>\n",
       "  <tbody>\n",
       "    <tr>\n",
       "      <th>0</th>\n",
       "      <td>31</td>\n",
       "      <td>24</td>\n",
       "      <td>966</td>\n",
       "      <td>3</td>\n",
       "      <td>1</td>\n",
       "      <td>0.915254</td>\n",
       "      <td>1</td>\n",
       "    </tr>\n",
       "    <tr>\n",
       "      <th>1</th>\n",
       "      <td>23</td>\n",
       "      <td>16</td>\n",
       "      <td>1027</td>\n",
       "      <td>2</td>\n",
       "      <td>1</td>\n",
       "      <td>0.857143</td>\n",
       "      <td>1</td>\n",
       "    </tr>\n",
       "    <tr>\n",
       "      <th>2</th>\n",
       "      <td>29</td>\n",
       "      <td>22</td>\n",
       "      <td>1772</td>\n",
       "      <td>2</td>\n",
       "      <td>2</td>\n",
       "      <td>0.888889</td>\n",
       "      <td>1</td>\n",
       "    </tr>\n",
       "    <tr>\n",
       "      <th>3</th>\n",
       "      <td>26</td>\n",
       "      <td>19</td>\n",
       "      <td>966</td>\n",
       "      <td>3</td>\n",
       "      <td>1</td>\n",
       "      <td>0.897959</td>\n",
       "      <td>1</td>\n",
       "    </tr>\n",
       "    <tr>\n",
       "      <th>4</th>\n",
       "      <td>33</td>\n",
       "      <td>26</td>\n",
       "      <td>1525</td>\n",
       "      <td>3</td>\n",
       "      <td>1</td>\n",
       "      <td>0.920635</td>\n",
       "      <td>1</td>\n",
       "    </tr>\n",
       "    <tr>\n",
       "      <th>...</th>\n",
       "      <td>...</td>\n",
       "      <td>...</td>\n",
       "      <td>...</td>\n",
       "      <td>...</td>\n",
       "      <td>...</td>\n",
       "      <td>...</td>\n",
       "      <td>...</td>\n",
       "    </tr>\n",
       "    <tr>\n",
       "      <th>835688</th>\n",
       "      <td>28</td>\n",
       "      <td>20</td>\n",
       "      <td>966</td>\n",
       "      <td>3</td>\n",
       "      <td>1</td>\n",
       "      <td>0.947368</td>\n",
       "      <td>1</td>\n",
       "    </tr>\n",
       "    <tr>\n",
       "      <th>835690</th>\n",
       "      <td>24</td>\n",
       "      <td>16</td>\n",
       "      <td>1623</td>\n",
       "      <td>2</td>\n",
       "      <td>1</td>\n",
       "      <td>0.608696</td>\n",
       "      <td>0</td>\n",
       "    </tr>\n",
       "    <tr>\n",
       "      <th>835692</th>\n",
       "      <td>33</td>\n",
       "      <td>25</td>\n",
       "      <td>966</td>\n",
       "      <td>3</td>\n",
       "      <td>1</td>\n",
       "      <td>0.958333</td>\n",
       "      <td>1</td>\n",
       "    </tr>\n",
       "    <tr>\n",
       "      <th>835694</th>\n",
       "      <td>58</td>\n",
       "      <td>50</td>\n",
       "      <td>966</td>\n",
       "      <td>3</td>\n",
       "      <td>2</td>\n",
       "      <td>0.936170</td>\n",
       "      <td>1</td>\n",
       "    </tr>\n",
       "    <tr>\n",
       "      <th>835696</th>\n",
       "      <td>20</td>\n",
       "      <td>12</td>\n",
       "      <td>1623</td>\n",
       "      <td>2</td>\n",
       "      <td>0</td>\n",
       "      <td>0.909091</td>\n",
       "      <td>0</td>\n",
       "    </tr>\n",
       "  </tbody>\n",
       "</table>\n",
       "<p>651971 rows × 7 columns</p>\n",
       "</div>"
      ],
      "text/plain": [
       "        URLLength  DomainLength   TLD  TLDLength  NoOfSubDomain  \\\n",
       "0              31            24   966          3              1   \n",
       "1              23            16  1027          2              1   \n",
       "2              29            22  1772          2              2   \n",
       "3              26            19   966          3              1   \n",
       "4              33            26  1525          3              1   \n",
       "...           ...           ...   ...        ...            ...   \n",
       "835688         28            20   966          3              1   \n",
       "835690         24            16  1623          2              1   \n",
       "835692         33            25   966          3              1   \n",
       "835694         58            50   966          3              2   \n",
       "835696         20            12  1623          2              0   \n",
       "\n",
       "        LetterRatioInURL  label  \n",
       "0               0.915254      1  \n",
       "1               0.857143      1  \n",
       "2               0.888889      1  \n",
       "3               0.897959      1  \n",
       "4               0.920635      1  \n",
       "...                  ...    ...  \n",
       "835688          0.947368      1  \n",
       "835690          0.608696      0  \n",
       "835692          0.958333      1  \n",
       "835694          0.936170      1  \n",
       "835696          0.909091      0  \n",
       "\n",
       "[651971 rows x 7 columns]"
      ]
     },
     "execution_count": 8,
     "metadata": {},
     "output_type": "execute_result"
    }
   ],
   "source": [
    "df2"
   ]
  },
  {
   "cell_type": "markdown",
   "id": "224b1aa4-3044-45b9-9778-cdf3233d638f",
   "metadata": {},
   "source": [
    "# Model training"
   ]
  },
  {
   "cell_type": "markdown",
   "id": "39d92ba7-a407-4e51-a6e4-386959854029",
   "metadata": {},
   "source": [
    "NOTE: More data are used for this dataset instead of the PhiUSIIL dataset, which includes a source from Hugging Face. The processing step of the said dataset can be found under `data_reorganize_dataset` and the CSV-processed version can be found on `new_data.csv`."
   ]
  },
  {
   "cell_type": "code",
   "execution_count": 9,
   "id": "9fcf19f4-d6f6-45dc-bf70-80dad00999af",
   "metadata": {
    "scrolled": true
   },
   "outputs": [
    {
     "name": "stdout",
     "output_type": "stream",
     "text": [
      "0.8586766465228994\n"
     ]
    }
   ],
   "source": [
    "X_clean = df2.drop('label', axis = 1)\n",
    "y = df2['label']\n",
    "\n",
    "from sklearn.tree import DecisionTreeClassifier\n",
    "from sklearn.preprocessing import StandardScaler\n",
    "from sklearn.ensemble import RandomForestClassifier\n",
    "from sklearn.model_selection import train_test_split\n",
    "\n",
    "# Create the scaler instance\n",
    "scaler = StandardScaler()\n",
    "\n",
    "# Create the model\n",
    "model = RandomForestClassifier()\n",
    "\n",
    "# Split the data\n",
    "X_train, X_test, y_train, y_test = train_test_split(\n",
    "    X_clean, y, test_size=0.1, stratify=y, random_state=42\n",
    ")\n",
    "\n",
    "# Fit the scaler on training data and transform both sets\n",
    "X_train_scaled = scaler.fit_transform(X_train)\n",
    "X_test_scaled = scaler.transform(X_test)\n",
    "\n",
    "# Train the model on scaled data\n",
    "model.fit(X_train_scaled, y_train)\n",
    "accuracy = model.score(X_test_scaled, y_test)\n",
    "print(accuracy)"
   ]
  },
  {
   "cell_type": "code",
   "execution_count": 33,
   "id": "c006ee40-4e41-4044-ba74-6a7e686d91e7",
   "metadata": {},
   "outputs": [
    {
     "name": "stderr",
     "output_type": "stream",
     "text": [
      "C:\\Users\\tanyu\\AppData\\Local\\Programs\\Python\\Python313\\Lib\\site-packages\\sklearn\\utils\\validation.py:2742: UserWarning: X has feature names, but RandomForestClassifier was fitted without feature names\n",
      "  warnings.warn(\n"
     ]
    },
    {
     "name": "stdout",
     "output_type": "stream",
     "text": [
      "Classification Report:\n",
      "              precision    recall  f1-score   support\n",
      "\n",
      "           0       0.92      0.81      0.87     36527\n",
      "           1       0.79      0.92      0.85     28671\n",
      "\n",
      "    accuracy                           0.86     65198\n",
      "   macro avg       0.86      0.86      0.86     65198\n",
      "weighted avg       0.87      0.86      0.86     65198\n",
      "\n",
      "Confusion Matrix:\n",
      "[[29739  6788]\n",
      " [ 2426 26245]]\n"
     ]
    },
    {
     "data": {
      "text/plain": [
       "{'task_type': 'classification',\n",
       " 'train_size': 586773,\n",
       " 'test_size': 65198,\n",
       " 'n_features': 6,\n",
       " 'feature_names': ['feature_0',\n",
       "  'feature_1',\n",
       "  'feature_2',\n",
       "  'feature_3',\n",
       "  'feature_4',\n",
       "  'feature_5'],\n",
       " 'performance': {'accuracy': 0.8586766465228994,\n",
       "  'precision_macro': 0.8595424623518402,\n",
       "  'recall_macro': 0.8647748740136476,\n",
       "  'f1_macro': 0.8582696035552329,\n",
       "  'precision_weighted': 0.8673786940939574,\n",
       "  'recall_weighted': 0.8586766465228994,\n",
       "  'f1_weighted': 0.8591848094951268,\n",
       "  'roc_auc': 0.9440091744174964,\n",
       "  'class_distribution': {np.int64(0): np.int64(36527),\n",
       "   np.int64(1): np.int64(28671)}},\n",
       " 'cv_stability': {'accuracy': {'mean': np.float64(0.8565612281969341),\n",
       "   'std': np.float64(0.001008702977845882),\n",
       "   'min': np.float64(0.8546205956286481),\n",
       "   'max': np.float64(0.8574484039743),\n",
       "   'cv': np.float64(0.001177619234493262)},\n",
       "  'precision_macro': {'mean': np.float64(0.8573001328517635),\n",
       "   'std': np.float64(0.0010085180016058566),\n",
       "   'min': np.float64(0.8553717858108592),\n",
       "   'max': np.float64(0.8583198184320395),\n",
       "   'cv': np.float64(0.0011763884816523647)},\n",
       "  'recall_macro': {'mean': np.float64(0.862516237115134),\n",
       "   'std': np.float64(0.001022153910806356),\n",
       "   'min': np.float64(0.860558621626424),\n",
       "   'max': np.float64(0.8635347680857353),\n",
       "   'cv': np.float64(0.0011850836735841212)},\n",
       "  'f1_macro': {'mean': np.float64(0.8561334784101806),\n",
       "   'std': np.float64(0.001010697039043842),\n",
       "   'min': np.float64(0.8541888326314895),\n",
       "   'max': np.float64(0.8570383563476253),\n",
       "   'cv': np.float64(0.001180536755694547)}},\n",
       " 'feature_importance': {'builtin_importance': {'values': [0.16638524420427825,\n",
       "    0.17974666176900952,\n",
       "    0.25765644381075054,\n",
       "    0.07215739681448428,\n",
       "    0.07200634130863809,\n",
       "    0.25204791209283944],\n",
       "   'features': ['feature_0',\n",
       "    'feature_1',\n",
       "    'feature_2',\n",
       "    'feature_3',\n",
       "    'feature_4',\n",
       "    'feature_5']},\n",
       "  'permutation_importance': {'importances_mean': [0.21286235774103496,\n",
       "    0.1997914046443142,\n",
       "    0.09517929997852692,\n",
       "    0.05521948526028401,\n",
       "    0.11336697444706889,\n",
       "    0.15702782293935394],\n",
       "   'importances_std': [0.0010584880429150667,\n",
       "    0.001174806573880214,\n",
       "    0.0018603322475356904,\n",
       "    0.001317127732164829,\n",
       "    0.0010475017911670214,\n",
       "    0.001210944928548251],\n",
       "   'features': ['feature_0',\n",
       "    'feature_1',\n",
       "    'feature_2',\n",
       "    'feature_3',\n",
       "    'feature_4',\n",
       "    'feature_5']},\n",
       "  'feature_correlations': {'correlations': [np.float64(-0.1577661737837968),\n",
       "    np.float64(-0.19395529311602752),\n",
       "    np.float64(-0.055457309685232506),\n",
       "    np.float64(0.007393539652658491),\n",
       "    np.float64(-0.1283042517982934),\n",
       "    np.float64(0.1650772198979295)],\n",
       "   'features': ['feature_0',\n",
       "    'feature_1',\n",
       "    'feature_2',\n",
       "    'feature_3',\n",
       "    'feature_4',\n",
       "    'feature_5']}},\n",
       " 'error_analysis': {'confusion_matrix': [[29739, 6788], [2426, 26245]],\n",
       "  'classification_report': {'0': {'precision': 0.9245764029224313,\n",
       "    'recall': 0.8141648643469215,\n",
       "    'f1-score': 0.8658650206719851,\n",
       "    'support': 36527.0},\n",
       "   '1': {'precision': 0.7945085217812491,\n",
       "    'recall': 0.9153848836803739,\n",
       "    'f1-score': 0.8506741864384805,\n",
       "    'support': 28671.0},\n",
       "   'accuracy': 0.8586766465228994,\n",
       "   'macro avg': {'precision': 0.8595424623518402,\n",
       "    'recall': 0.8647748740136476,\n",
       "    'f1-score': 0.8582696035552329,\n",
       "    'support': 65198.0},\n",
       "   'weighted avg': {'precision': 0.8673786940939574,\n",
       "    'recall': 0.8586766465228994,\n",
       "    'f1-score': 0.8591848094951268,\n",
       "    'support': 65198.0}},\n",
       "  'misclassification_rate': 0.14132335347710054,\n",
       "  'n_misclassified': 9214,\n",
       "  'error_patterns_by_feature': [{'feature': 'feature_0',\n",
       "    'error_mean': np.float64(-0.16411731505502455),\n",
       "    'error_std': np.float64(0.24264660625486198),\n",
       "    'overall_mean': np.float64(0.0039031169681119095),\n",
       "    'overall_std': np.float64(1.1903618191305163)},\n",
       "   {'feature': 'feature_1',\n",
       "    'error_mean': np.float64(-0.22703756831828176),\n",
       "    'error_std': np.float64(0.5930616688638546),\n",
       "    'overall_mean': np.float64(-0.0013741304024523504),\n",
       "    'overall_std': np.float64(0.9910224707365756)},\n",
       "   {'feature': 'feature_2',\n",
       "    'error_mean': np.float64(-0.200558019682822),\n",
       "    'error_std': np.float64(0.8178376437461573),\n",
       "    'overall_mean': np.float64(-0.004435328659692355),\n",
       "    'overall_std': np.float64(0.9970282858016399)},\n",
       "   {'feature': 'feature_3',\n",
       "    'error_mean': np.float64(0.08079417354279755),\n",
       "    'error_std': np.float64(0.42390014516030455),\n",
       "    'overall_mean': np.float64(-0.003675087266363243),\n",
       "    'overall_std': np.float64(0.8382231935785025)},\n",
       "   {'feature': 'feature_4',\n",
       "    'error_mean': np.float64(-0.5064269113084167),\n",
       "    'error_std': np.float64(0.6264866550325608),\n",
       "    'overall_mean': np.float64(0.0006875595237562787),\n",
       "    'overall_std': np.float64(0.9963591200060092)},\n",
       "   {'feature': 'feature_5',\n",
       "    'error_mean': np.float64(0.43003201284326786),\n",
       "    'error_std': np.float64(0.3970804638313415),\n",
       "    'overall_mean': np.float64(0.0015655294197585953),\n",
       "    'overall_std': np.float64(0.9961699279143281)}]},\n",
       " 'interpretation': {'model_complexity': {'model_type': 'RandomForestClassifier',\n",
       "   'n_estimators': 100,\n",
       "   'max_depth': None},\n",
       "  'feature_interactions': {'pairwise_interactions': [{'feature_1': 'feature_2',\n",
       "     'feature_2': 'feature_3',\n",
       "     'interaction_strength': np.float64(0.10259659832907772)},\n",
       "    {'feature_1': 'feature_2',\n",
       "     'feature_2': 'feature_5',\n",
       "     'interaction_strength': np.float64(0.08127151507269015)},\n",
       "    {'feature_1': 'feature_1',\n",
       "     'feature_2': 'feature_4',\n",
       "     'interaction_strength': np.float64(0.07708036802650088)},\n",
       "    {'feature_1': 'feature_0',\n",
       "     'feature_2': 'feature_4',\n",
       "     'interaction_strength': np.float64(0.07697538704451239)},\n",
       "    {'feature_1': 'feature_0',\n",
       "     'feature_2': 'feature_1',\n",
       "     'interaction_strength': np.float64(0.06828206936279035)},\n",
       "    {'feature_1': 'feature_4',\n",
       "     'feature_2': 'feature_5',\n",
       "     'interaction_strength': np.float64(0.05458737381321318)},\n",
       "    {'feature_1': 'feature_0',\n",
       "     'feature_2': 'feature_2',\n",
       "     'interaction_strength': np.float64(0.04384419397681924)},\n",
       "    {'feature_1': 'feature_1',\n",
       "     'feature_2': 'feature_2',\n",
       "     'interaction_strength': np.float64(0.042624129680529026)},\n",
       "    {'feature_1': 'feature_0',\n",
       "     'feature_2': 'feature_5',\n",
       "     'interaction_strength': np.float64(0.03910313338007184)},\n",
       "    {'feature_1': 'feature_1',\n",
       "     'feature_2': 'feature_5',\n",
       "     'interaction_strength': np.float64(0.03520131293664387)}]},\n",
       "  'prediction_confidence': {'mean_confidence': np.float64(0.8601446686213241),\n",
       "   'std_confidence': np.float64(0.17386333275515634),\n",
       "   'min_confidence': np.float64(0.5),\n",
       "   'max_confidence': np.float64(1.0),\n",
       "   'confidence_quartiles': [0.6680410204654295, 0.99, 1.0],\n",
       "   'low_confidence_threshold': np.float64(0.6002549870755591),\n",
       "   'n_low_confidence_predictions': np.int64(5826),\n",
       "   'low_confidence_rate': np.float64(0.0893585692812663)}}}"
      ]
     },
     "execution_count": 33,
     "metadata": {},
     "output_type": "execute_result"
    }
   ],
   "source": [
    "y_pred = model.predict(X_test)\n",
    "# When retraining, add this validation\n",
    "from sklearn.metrics import classification_report, confusion_matrix\n",
    "from extended_sklearn_metrics import final_model_evaluation, print_evaluation_summary\n",
    "# After training\n",
    "y_pred = model.predict(X_test_scaled)\n",
    "print(\"Classification Report:\")\n",
    "print(classification_report(y_test, y_pred))\n",
    "print(\"Confusion Matrix:\")\n",
    "print(confusion_matrix(y_test, y_pred))\n",
    "\n",
    "# Save both scaler and model\n",
    "joblib.dump(scaler, 'scaler.pkl')\n",
    "joblib.dump(model, 'trained_model.pkl')\n",
    "\n",
    "# evaluation summary\n",
    "final_model_evaluation(X_test=X_test_scaled, y_test=y_test, model=model, X_train=X_train_scaled, y_train=y_train)"
   ]
  },
  {
   "cell_type": "code",
   "execution_count": 11,
   "id": "6a3dd53b-9eb1-4d0a-9929-c632f86a9d17",
   "metadata": {},
   "outputs": [
    {
     "data": {
      "text/plain": [
       "Index(['URLLength', 'DomainLength', 'TLD', 'TLDLength', 'NoOfSubDomain',\n",
       "       'LetterRatioInURL'],\n",
       "      dtype='object')"
      ]
     },
     "execution_count": 11,
     "metadata": {},
     "output_type": "execute_result"
    }
   ],
   "source": [
    "X_clean.columns"
   ]
  },
  {
   "cell_type": "code",
   "execution_count": 12,
   "id": "cbfcfb20-01f9-42fb-b2c1-3f7bd214423d",
   "metadata": {},
   "outputs": [],
   "source": [
    "# NOTE: there is no need to use Selenium for parsing it - just use the data above\n",
    "# DomainLength\t\t\twhole domain length after http / https (if removed)\n",
    "# TLD\t\t\t\t\tTLD of the domain which can be extracted from the last string of the domain if splitted\n",
    "# NoOfSubDomain\t\t\tsubdomain count (split \".\" then minus 2 - example: play.google.com = 1)\n",
    "# LetterRatioInURL\t\t\n",
    "# label\t\t\t\t\ttarget (0 = phishing, 1 = legitimate)\n",
    "#\n",
    "# workflow: validate domain, extract TLD / NoOfSubdomain, pass data to model"
   ]
  },
  {
   "cell_type": "code",
   "execution_count": 13,
   "id": "83f88599-ef72-46b7-9660-ce0c5ef25707",
   "metadata": {},
   "outputs": [
    {
     "data": {
      "text/plain": [
       "['trained_model.pkl']"
      ]
     },
     "execution_count": 13,
     "metadata": {},
     "output_type": "execute_result"
    }
   ],
   "source": [
    "# save trained model\n",
    "import joblib\n",
    "joblib.dump(scaler, 'scaler.pkl')\n",
    "joblib.dump(model, 'trained_model.pkl')"
   ]
  },
  {
   "cell_type": "markdown",
   "id": "ddde589c-5d99-44c4-b094-e2fa85de7c74",
   "metadata": {},
   "source": [
    "# Data analysis"
   ]
  },
  {
   "cell_type": "code",
   "execution_count": 14,
   "id": "cc88d1ba-393f-4502-83c3-765b3f1de7c6",
   "metadata": {},
   "outputs": [],
   "source": [
    "import seaborn as sns\n",
    "import matplotlib.pyplot as plt"
   ]
  },
  {
   "cell_type": "code",
   "execution_count": 15,
   "id": "a2a0ab5b-d5d9-42cc-a245-a64769d9706f",
   "metadata": {},
   "outputs": [
    {
     "data": {
      "text/plain": [
       "<function matplotlib.pyplot.show(close=None, block=None)>"
      ]
     },
     "execution_count": 15,
     "metadata": {},
     "output_type": "execute_result"
    },
    {
     "data": {
      "image/png": "[encoded data removed]",
      "text/plain": [
       "<Figure size 640x480 with 1 Axes>"
      ]
     },
     "metadata": {},
     "output_type": "display_data"
    }
   ],
   "source": [
    "df2['DomainLength'].unique()\n",
    "def group_by_range(n):\n",
    "    if n < 100:\n",
    "        # Calculate the range start\n",
    "        range_start = (n // 10) * 10\n",
    "        range_end = range_start + 9\n",
    "        return f\"{range_start}-{range_end}\"\n",
    "        \n",
    "df3 = df2.copy()\n",
    "df3['length'] = df3['DomainLength'].apply(group_by_range)\n",
    "\n",
    "\n",
    "# Reorder the DataFrame\n",
    "df_ordered_phishing = df3[df3['label'] == 0][['DomainLength', 'length']].groupby('length')['DomainLength'].count().reset_index()\n",
    "df_ordered_legitimate = df3[df3['label'] == 1][['DomainLength', 'length']].groupby('length')['DomainLength'].count().reset_index()\n",
    "sns.barplot(df_ordered_phishing, x = 'length', y = 'DomainLength')\n",
    "plt.xticks(rotation=90)\n",
    "plt.title('Phishing websites by URL length')\n",
    "plt.show"
   ]
  },
  {
   "cell_type": "markdown",
   "id": "acbd6046-2b09-484f-9ec2-118a1f02d27e",
   "metadata": {},
   "source": [
    "Note that most websites are less than 50 characters. To view a more detailed plot, \"less than 50\" and \"50-99\" must be removed."
   ]
  },
  {
   "cell_type": "code",
   "execution_count": 16,
   "id": "3b21e3b5-c728-49e8-8c79-a829154c1589",
   "metadata": {
    "scrolled": true
   },
   "outputs": [
    {
     "data": {
      "text/plain": [
       "<function matplotlib.pyplot.show(close=None, block=None)>"
      ]
     },
     "execution_count": 16,
     "metadata": {},
     "output_type": "execute_result"
    },
    {
     "data": {
      "image/png": "[encoded data removed]",
      "text/plain": [
       "<Figure size 640x480 with 1 Axes>"
      ]
     },
     "metadata": {},
     "output_type": "display_data"
    }
   ],
   "source": [
    "sns.barplot(df_ordered_legitimate, x = 'length', y = 'DomainLength')\n",
    "plt.xticks(rotation=90)\n",
    "plt.title('Legitimate websites by URL length')\n",
    "plt.show"
   ]
  },
  {
   "cell_type": "markdown",
   "id": "d28f94f4-3494-45e0-94d2-b9f9d53a02e1",
   "metadata": {},
   "source": [
    "For legitimate websites, the maximum character for a website is only in the 50 character to 99 character range. Note that the TLD is also another significant point for phishing websites."
   ]
  },
  {
   "cell_type": "code",
   "execution_count": 17,
   "id": "962bb8a7-edef-43f7-95d2-9757e109ec3e",
   "metadata": {},
   "outputs": [],
   "source": [
    "source = df2.TLD\n",
    "target = le.inverse_transform(df2.TLD)"
   ]
  },
  {
   "cell_type": "code",
   "execution_count": 18,
   "id": "397b58df-0aa9-46c6-b2bd-ec8559250048",
   "metadata": {},
   "outputs": [],
   "source": [
    "df3['TLD'] = df3.TLD.apply(lambda x: target[x])"
   ]
  },
  {
   "cell_type": "code",
   "execution_count": 19,
   "id": "5ecb82de-71a0-4b0f-9a6a-266c8d1e026e",
   "metadata": {},
   "outputs": [
    {
     "data": {
      "text/plain": [
       "TLD\n",
       "com         258381\n",
       "eu            5539\n",
       "tk            4460\n",
       "co            2810\n",
       "app           2542\n",
       "             ...  \n",
       "download         1\n",
       "eus              1\n",
       "fm               1\n",
       "my               1\n",
       "dk               1\n",
       "Name: count, Length: 88, dtype: int64"
      ]
     },
     "execution_count": 19,
     "metadata": {},
     "output_type": "execute_result"
    }
   ],
   "source": [
    "df3[df3.label == 1]['TLD'].value_counts()"
   ]
  },
  {
   "cell_type": "code",
   "execution_count": 20,
   "id": "1f2879e0-0428-44ac-972f-75c4424b0599",
   "metadata": {},
   "outputs": [
    {
     "data": {
      "text/plain": [
       "TLD\n",
       "com       248179\n",
       "eu         30744\n",
       "io         14433\n",
       "uk         11072\n",
       "net         8192\n",
       "           ...  \n",
       "cyou           1\n",
       "128            1\n",
       "review         1\n",
       "tz             1\n",
       "am             1\n",
       "Name: count, Length: 129, dtype: int64"
      ]
     },
     "execution_count": 20,
     "metadata": {},
     "output_type": "execute_result"
    }
   ],
   "source": [
    "df3[df3.label == 0]['TLD'].value_counts()"
   ]
  },
  {
   "cell_type": "markdown",
   "id": "bbef258b-fc9c-4c02-832d-094090c9b2a0",
   "metadata": {},
   "source": [
    "For both phishing and non-phishing websites, .io, .com and .org are the most used.\n",
    "\n",
    "Some domains are only used for legitimate websites, such as .gov, .edu (which requires special approval from the related NIC, according to domain registration knowledge). But since some websites are easily hijacked, there **IS** a possibility of special approval-only websites to host phishing content, such as easily-hijacked government sites bearing the .gov domain."
   ]
  },
  {
   "cell_type": "code",
   "execution_count": 21,
   "id": "6d7bd13d-6f8c-4e8d-856f-f8b6504751b3",
   "metadata": {},
   "outputs": [
    {
     "name": "stdout",
     "output_type": "stream",
     "text": [
      "From the dataset, these TLDs appears only on phishing sites\n",
      "['cyou', 'media', 'is', 'lu', 'win', 'network', 'asia', 'gq', 'ee', 'ug', 'su', '123', 'ir', 'ro', 'games', 'travel', 'qa', 'tokyo', 'ph', 'cool', 'az', 'be', 'hu', 'pm', 'today', 'uy', 'life', 'hk', 'sh', 'shop', 'guru', 'am', 'ng', 'tz', '128', 'eg', 'im', 'review', 'one', 'bar', 'lk', 'cc', 'sk', 'art', 'pt', 'space', 'online']\n",
      "From the dataset, these TLDs does not appear as phishing sites\n",
      "['ae', 'fm', 'bt', 'download', 'news', 'sa']\n"
     ]
    }
   ],
   "source": [
    "set1 = set(df3[df3.label == 0]['TLD']) # phishing\n",
    "set2 = set(df3[df3.label == 1]['TLD']) # legitimate\n",
    "\n",
    "print('From the dataset, these TLDs appears only on phishing sites')\n",
    "print(list(set1 - set2))\n",
    "print('From the dataset, these TLDs does not appear as phishing sites')\n",
    "print(list(set2 - set1))"
   ]
  },
  {
   "cell_type": "markdown",
   "id": "c92e9a7f-9b49-4112-9821-8d0661df6b43",
   "metadata": {},
   "source": [
    "NOTABLE DOMAINS USED FOR PHISHING VALUES:\n",
    "* .today - Although there are some legitimate uses of this domain (example: archive.today, a well-known alternative for the Wayback Machine for website archiving), it is needed to be cautious since some websites might be registered as phishing sites or there might be cases of hijacking.\n",
    "* .bar - Usage unclear, but according to top websites that uses this TLD, the domain is usually used as a proxy for illicit sites (mostly gambling), which is considered phishing.\n",
    "* .ng - Nigeria country TLD. According to NIRA, some domains are open for people with intention to use it. Top websites under this TLD are usually used by Nigerian news sites, but it is needed to be cautious since some websites might be registered as phishing sites or there might be cases of hijacking.\n",
    "* .review - According to data, the top websites that utilizes this TLD includes \"content farms\".\n",
    "* .guru - Although there are a few legitimate uses of this TLD, most uses are usually focused on \"content farms\" and proxies for illicit sites (gambling and streaming).\n",
    "* .sk - Slovakia country TLD. According to SK-NIC, there are no registration requirements for this domain. Most websites under this domain are legitimate websites (example: yadi.sk for Yandex's cloud storage service) but phishing sites might be a result of hijacked websites that uses this TLD."
   ]
  },
  {
   "cell_type": "markdown",
   "id": "a6e5b1e3-c905-421e-b2a6-448d13c35d6a",
   "metadata": {},
   "source": [
    "NOTE: other domains not listed here exists on both phishing and legitimate datasets.\n",
    "\n",
    "(Sources: https://domaintyper.com/ (for top 10 ranking to identify legitimate use), Wikipedia pages of the TLD)"
   ]
  },
  {
   "cell_type": "markdown",
   "id": "1f227c19-187a-407e-bbc1-a0feaa515841",
   "metadata": {},
   "source": [
    "# Gradio demonstration"
   ]
  },
  {
   "cell_type": "code",
   "execution_count": 22,
   "id": "5202b8eb-e33e-46ef-a77a-927eb2fc94dd",
   "metadata": {},
   "outputs": [
    {
     "data": {
      "text/plain": [
       "Index(['URLLength', 'DomainLength', 'TLD', 'TLDLength', 'NoOfSubDomain',\n",
       "       'LetterRatioInURL', 'label', 'length'],\n",
       "      dtype='object')"
      ]
     },
     "execution_count": 22,
     "metadata": {},
     "output_type": "execute_result"
    }
   ],
   "source": [
    "df3.columns"
   ]
  },
  {
   "cell_type": "code",
   "execution_count": 23,
   "id": "d1bc64f9-e3a1-4f96-b382-e2295116b688",
   "metadata": {},
   "outputs": [
    {
     "name": "stdout",
     "output_type": "stream",
     "text": [
      "* Running on local URL:  http://127.0.0.1:7860\n",
      "* To create a public link, set `share=True` in `launch()`.\n"
     ]
    },
    {
     "data": {
      "text/html": [
       "<div><iframe src=\"http://127.0.0.1:7860/\" width=\"100%\" height=\"500\" allow=\"autoplay; camera; microphone; clipboard-read; clipboard-write;\" frameborder=\"0\" allowfullscreen></iframe></div>"
      ],
      "text/plain": [
       "<IPython.core.display.HTML object>"
      ]
     },
     "metadata": {},
     "output_type": "display_data"
    },
    {
     "data": {
      "text/plain": []
     },
     "execution_count": 23,
     "metadata": {},
     "output_type": "execute_result"
    }
   ],
   "source": [
    "import numpy as np\n",
    "# rewrite get_data and link to gradio\n",
    "def predict_data(Domain):\n",
    "    scaler = joblib.load('scaler.pkl')\n",
    "    model = joblib.load('trained_model.pkl')\n",
    "    domain = Domain.replace('http://', '').replace('https://', '') # removes regular HTTP / HTTPS protocol for domain parsing\n",
    "    dom_length = len(domain)\n",
    "    tld = domain.split('.')[-1]\n",
    "    try:\n",
    "        tld_encoded = le.transform([tld])[0]\n",
    "    except:\n",
    "        return \"Invalid domain\"\n",
    "    tld_length = len(tld)\n",
    "    subdomain_no = len(domain.split('.')) - 2\n",
    "    letter_ratio = SequenceMatcher(a = \"\".join(re.findall(r'[a-zA-Z.]+', domain)), b = domain).ratio()\n",
    "    input_features = np.array([[\n",
    "        len(Domain),           # URLLength\n",
    "        dom_length,         # DomainLength  \n",
    "        tld_encoded,        # TLD (encoded)\n",
    "        tld_length,         # TLDLength\n",
    "        subdomain_no,       # NoOfSubDomain\n",
    "        letter_ratio        # LetterRatioInURL\n",
    "    ]])\n",
    "    scaled_features = scaler.transform(input_features)\n",
    "    prediction = model.predict(scaled_features)\n",
    "    prediction_proba = model.predict_proba(scaled_features)\n",
    "    try:\n",
    "        return f\"{\"Legitimate\" if (prediction == 1) else \"Phishing\"}\"\n",
    "    except:\n",
    "        return \"Invalid domain\"\n",
    "\n",
    "import gradio as gr\n",
    "demo = gr.Interface(fn=predict_data, inputs=\"text\", outputs=\"label\")\n",
    "demo.launch()"
   ]
  }
 ],
 "metadata": {
  "kernelspec": {
   "display_name": "Python 3 (ipykernel)",
   "language": "python",
   "name": "python3"
  },
  "language_info": {
   "codemirror_mode": {
    "name": "ipython",
    "version": 3
   },
   "file_extension": ".py",
   "mimetype": "text/x-python",
   "name": "python",
   "nbconvert_exporter": "python",
   "pygments_lexer": "ipython3",
   "version": "3.13.5"
  }
 },
 "nbformat": 4,
 "nbformat_minor": 5
}
